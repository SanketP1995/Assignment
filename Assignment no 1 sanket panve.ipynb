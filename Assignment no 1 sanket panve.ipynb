{
 "cells": [
  {
   "cell_type": "markdown",
   "metadata": {},
   "source": [
    "1.Write a program which will find all such numbers which are divisible by 7 but are not a multiple of 5, between 2000 and 3200 (both included). The numbers obtained should be printed\n",
    "in a comma-separated sequence on a single line.\n"
   ]
  },
  {
   "cell_type": "code",
   "execution_count": 27,
   "metadata": {},
   "outputs": [
    {
     "name": "stdout",
     "output_type": "stream",
     "text": [
      "Following are the numbers between 2000 and 3200 which are divisble by seven and are not multiple of 5:\n",
      "3199,3192,3178,3171,3164,3157,3143,3136,3129,3122,3108,3101,3094,3087,3073,3066,3059,3052,3038,3031,3024,3017,3003,2996,2989,2982,2968,2961,2954,2947,2933,2926,2919,2912,2898,2891,2884,2877,2863,2856,2849,2842,2828,2821,2814,2807,2793,2786,2779,2772,2758,2751,2744,2737,2723,2716,2709,2702,2688,2681,2674,2667,2653,2646,2639,2632,2618,2611,2604,2597,2583,2576,2569,2562,2548,2541,2534,2527,2513,2506,2499,2492,2478,2471,2464,2457,2443,2436,2429,2422,2408,2401,2394,2387,2373,2366,2359,2352,2338,2331,2324,2317,2303,2296,2289,2282,2268,2261,2254,2247,2233,2226,2219,2212,2198,2191,2184,2177,2163,2156,2149,2142,2128,2121,2114,2107,2093,2086,2079,2072,2058,2051,2044,2037,2023,2016,2009,2002,"
     ]
    }
   ],
   "source": [
    "count=3200\n",
    "print(\"Following are the numbers between 2000 and 3200 which are divisble by seven and are not multiple of 5:\")\n",
    "while(count>1999):\n",
    "    if count % 7==0 and count %5 != 0: \n",
    "        print(count,end=\",\")\n",
    "    count-=1\n",
    "    "
   ]
  },
  {
   "cell_type": "code",
   "execution_count": null,
   "metadata": {},
   "outputs": [],
   "source": []
  },
  {
   "cell_type": "markdown",
   "metadata": {},
   "source": [
    "2.Write a Python program to accept the user's first and last name and then getting them printed in the the reverse order with a space between first name and last name."
   ]
  },
  {
   "cell_type": "code",
   "execution_count": 34,
   "metadata": {},
   "outputs": [
    {
     "name": "stdout",
     "output_type": "stream",
     "text": [
      "Enter your first name here = sanket\n",
      "Enter ypur second name here = panve\n",
      "Reverse oreder of your name is = evnap teknas\n"
     ]
    }
   ],
   "source": [
    "a= input(\"Enter your first name here = \")\n",
    "b= input(\"Enter ypur second name here = \")\n",
    "c= a+\" \"+b\n",
    "rev = c[::-1] \n",
    "print(\"Reverse oreder of your name is =\",rev)\n",
    "  "
   ]
  },
  {
   "cell_type": "code",
   "execution_count": null,
   "metadata": {},
   "outputs": [],
   "source": []
  },
  {
   "cell_type": "markdown",
   "metadata": {},
   "source": [
    "3.Write a Python program to find the volume of a sphere with diameter 12 cm.\n",
    "Formula: V=4/3 * π * r 3"
   ]
  },
  {
   "cell_type": "code",
   "execution_count": 47,
   "metadata": {},
   "outputs": [
    {
     "name": "stdout",
     "output_type": "stream",
     "text": [
      "Enter the diameter of sphere in cms = 12\n",
      "Volume of the sphere is =  904.84 cms\n"
     ]
    }
   ],
   "source": [
    "d= int(input(\"Enter the diameter of sphere in cms = \"))\n",
    "r=d/2\n",
    "\n",
    "π=3.1418\n",
    "volume= 4/3* π * (r**3)\n",
    "print(\"Volume of the sphere is = \",round(volume,2), \"cms\")"
   ]
  },
  {
   "cell_type": "code",
   "execution_count": null,
   "metadata": {},
   "outputs": [],
   "source": []
  }
 ],
 "metadata": {
  "kernelspec": {
   "display_name": "Python 3",
   "language": "python",
   "name": "python3"
  },
  "language_info": {
   "codemirror_mode": {
    "name": "ipython",
    "version": 3
   },
   "file_extension": ".py",
   "mimetype": "text/x-python",
   "name": "python",
   "nbconvert_exporter": "python",
   "pygments_lexer": "ipython3",
   "version": "3.7.6"
  }
 },
 "nbformat": 4,
 "nbformat_minor": 4
}
